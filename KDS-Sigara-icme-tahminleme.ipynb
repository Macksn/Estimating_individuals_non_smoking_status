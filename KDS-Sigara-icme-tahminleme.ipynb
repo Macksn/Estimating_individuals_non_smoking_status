{
 "cells": [
  {
   "cell_type": "markdown",
   "id": "ba297d6a",
   "metadata": {},
   "source": [
    "## <h1><span style=\"color: red;\">Bireylerin Sigara İçip İçmeme Durumlarını Tahmin Etme</span></h1>\n",
    "\n",
    "* 10 Kümeye Ayırma ve Eğitim/Test Setlerini Oluşturma"
   ]
  },
  {
   "cell_type": "code",
   "execution_count": 1,
   "id": "22060bda",
   "metadata": {},
   "outputs": [
    {
     "name": "stdout",
     "output_type": "stream",
     "text": [
      "C:\\Users\\musta\\Desktop\\proje\n"
     ]
    }
   ],
   "source": [
    "#Kullanacağımız kütüphanelerimizi yüklüyoruz\n",
    "from sklearn import tree\n",
    "import pandas as pd\n",
    "import os\n",
    "from sklearn import preprocessing\n",
    "import numpy as np\n",
    "from sklearn.ensemble import RandomForestClassifier\n",
    "from sklearn.model_selection import train_test_split, KFold, cross_val_score\n",
    "from sklearn.metrics import accuracy_score, confusion_matrix, classification_report\n",
    "\n",
    "print(os.getcwd())"
   ]
  },
  {
   "cell_type": "markdown",
   "id": "46f7d9bd",
   "metadata": {},
   "source": [
    "### VERİ SETİNİ YÜKLE VE İŞLE"
   ]
  },
  {
   "cell_type": "code",
   "execution_count": 2,
   "id": "44a971ab",
   "metadata": {},
   "outputs": [],
   "source": [
    "df=pd.read_csv(\"Cardio_train.csv\" ,delimiter=\";\")\n",
    "\n",
    "# Vücut Kitle İndeksi (BMI) ekleyin\n",
    "df['BMI'] = df['weight'] / (df['height']/100) ** 2\n",
    "\n",
    "# Girdi (features) ve Çıktı (labels) değişkenlerini belirleyin\n",
    "X = df.drop(columns=['id', 'cardio', 'smoke'])\n",
    "y_cardio = df['cardio']\n",
    "y_smoke = df['smoke']"
   ]
  },
  {
   "cell_type": "code",
   "execution_count": 3,
   "id": "916c7ec1",
   "metadata": {
    "scrolled": false
   },
   "outputs": [
    {
     "data": {
      "text/html": [
       "<div>\n",
       "<style scoped>\n",
       "    .dataframe tbody tr th:only-of-type {\n",
       "        vertical-align: middle;\n",
       "    }\n",
       "\n",
       "    .dataframe tbody tr th {\n",
       "        vertical-align: top;\n",
       "    }\n",
       "\n",
       "    .dataframe thead th {\n",
       "        text-align: right;\n",
       "    }\n",
       "</style>\n",
       "<table border=\"1\" class=\"dataframe\">\n",
       "  <thead>\n",
       "    <tr style=\"text-align: right;\">\n",
       "      <th></th>\n",
       "      <th>id</th>\n",
       "      <th>age</th>\n",
       "      <th>gender</th>\n",
       "      <th>height</th>\n",
       "      <th>weight</th>\n",
       "      <th>ap_hi</th>\n",
       "      <th>ap_lo</th>\n",
       "      <th>cholesterol</th>\n",
       "      <th>gluc</th>\n",
       "      <th>smoke</th>\n",
       "      <th>alco</th>\n",
       "      <th>active</th>\n",
       "      <th>cardio</th>\n",
       "      <th>BMI</th>\n",
       "    </tr>\n",
       "  </thead>\n",
       "  <tbody>\n",
       "    <tr>\n",
       "      <th>0</th>\n",
       "      <td>0</td>\n",
       "      <td>18393</td>\n",
       "      <td>2</td>\n",
       "      <td>168</td>\n",
       "      <td>62.0</td>\n",
       "      <td>110</td>\n",
       "      <td>80</td>\n",
       "      <td>1</td>\n",
       "      <td>1</td>\n",
       "      <td>0</td>\n",
       "      <td>0</td>\n",
       "      <td>1</td>\n",
       "      <td>0</td>\n",
       "      <td>21.967120</td>\n",
       "    </tr>\n",
       "    <tr>\n",
       "      <th>1</th>\n",
       "      <td>1</td>\n",
       "      <td>20228</td>\n",
       "      <td>1</td>\n",
       "      <td>156</td>\n",
       "      <td>85.0</td>\n",
       "      <td>140</td>\n",
       "      <td>90</td>\n",
       "      <td>3</td>\n",
       "      <td>1</td>\n",
       "      <td>0</td>\n",
       "      <td>0</td>\n",
       "      <td>1</td>\n",
       "      <td>1</td>\n",
       "      <td>34.927679</td>\n",
       "    </tr>\n",
       "    <tr>\n",
       "      <th>2</th>\n",
       "      <td>2</td>\n",
       "      <td>18857</td>\n",
       "      <td>1</td>\n",
       "      <td>165</td>\n",
       "      <td>64.0</td>\n",
       "      <td>130</td>\n",
       "      <td>70</td>\n",
       "      <td>3</td>\n",
       "      <td>1</td>\n",
       "      <td>0</td>\n",
       "      <td>0</td>\n",
       "      <td>0</td>\n",
       "      <td>1</td>\n",
       "      <td>23.507805</td>\n",
       "    </tr>\n",
       "    <tr>\n",
       "      <th>3</th>\n",
       "      <td>3</td>\n",
       "      <td>17623</td>\n",
       "      <td>2</td>\n",
       "      <td>169</td>\n",
       "      <td>82.0</td>\n",
       "      <td>150</td>\n",
       "      <td>100</td>\n",
       "      <td>1</td>\n",
       "      <td>1</td>\n",
       "      <td>0</td>\n",
       "      <td>0</td>\n",
       "      <td>1</td>\n",
       "      <td>1</td>\n",
       "      <td>28.710479</td>\n",
       "    </tr>\n",
       "    <tr>\n",
       "      <th>4</th>\n",
       "      <td>4</td>\n",
       "      <td>17474</td>\n",
       "      <td>1</td>\n",
       "      <td>156</td>\n",
       "      <td>56.0</td>\n",
       "      <td>100</td>\n",
       "      <td>60</td>\n",
       "      <td>1</td>\n",
       "      <td>1</td>\n",
       "      <td>0</td>\n",
       "      <td>0</td>\n",
       "      <td>0</td>\n",
       "      <td>0</td>\n",
       "      <td>23.011177</td>\n",
       "    </tr>\n",
       "    <tr>\n",
       "      <th>...</th>\n",
       "      <td>...</td>\n",
       "      <td>...</td>\n",
       "      <td>...</td>\n",
       "      <td>...</td>\n",
       "      <td>...</td>\n",
       "      <td>...</td>\n",
       "      <td>...</td>\n",
       "      <td>...</td>\n",
       "      <td>...</td>\n",
       "      <td>...</td>\n",
       "      <td>...</td>\n",
       "      <td>...</td>\n",
       "      <td>...</td>\n",
       "      <td>...</td>\n",
       "    </tr>\n",
       "    <tr>\n",
       "      <th>69995</th>\n",
       "      <td>99993</td>\n",
       "      <td>19240</td>\n",
       "      <td>2</td>\n",
       "      <td>168</td>\n",
       "      <td>76.0</td>\n",
       "      <td>120</td>\n",
       "      <td>80</td>\n",
       "      <td>1</td>\n",
       "      <td>1</td>\n",
       "      <td>1</td>\n",
       "      <td>0</td>\n",
       "      <td>1</td>\n",
       "      <td>0</td>\n",
       "      <td>26.927438</td>\n",
       "    </tr>\n",
       "    <tr>\n",
       "      <th>69996</th>\n",
       "      <td>99995</td>\n",
       "      <td>22601</td>\n",
       "      <td>1</td>\n",
       "      <td>158</td>\n",
       "      <td>126.0</td>\n",
       "      <td>140</td>\n",
       "      <td>90</td>\n",
       "      <td>2</td>\n",
       "      <td>2</td>\n",
       "      <td>0</td>\n",
       "      <td>0</td>\n",
       "      <td>1</td>\n",
       "      <td>1</td>\n",
       "      <td>50.472681</td>\n",
       "    </tr>\n",
       "    <tr>\n",
       "      <th>69997</th>\n",
       "      <td>99996</td>\n",
       "      <td>19066</td>\n",
       "      <td>2</td>\n",
       "      <td>183</td>\n",
       "      <td>105.0</td>\n",
       "      <td>180</td>\n",
       "      <td>90</td>\n",
       "      <td>3</td>\n",
       "      <td>1</td>\n",
       "      <td>0</td>\n",
       "      <td>1</td>\n",
       "      <td>0</td>\n",
       "      <td>1</td>\n",
       "      <td>31.353579</td>\n",
       "    </tr>\n",
       "    <tr>\n",
       "      <th>69998</th>\n",
       "      <td>99998</td>\n",
       "      <td>22431</td>\n",
       "      <td>1</td>\n",
       "      <td>163</td>\n",
       "      <td>72.0</td>\n",
       "      <td>135</td>\n",
       "      <td>80</td>\n",
       "      <td>1</td>\n",
       "      <td>2</td>\n",
       "      <td>0</td>\n",
       "      <td>0</td>\n",
       "      <td>0</td>\n",
       "      <td>1</td>\n",
       "      <td>27.099251</td>\n",
       "    </tr>\n",
       "    <tr>\n",
       "      <th>69999</th>\n",
       "      <td>99999</td>\n",
       "      <td>20540</td>\n",
       "      <td>1</td>\n",
       "      <td>170</td>\n",
       "      <td>72.0</td>\n",
       "      <td>120</td>\n",
       "      <td>80</td>\n",
       "      <td>2</td>\n",
       "      <td>1</td>\n",
       "      <td>0</td>\n",
       "      <td>0</td>\n",
       "      <td>1</td>\n",
       "      <td>0</td>\n",
       "      <td>24.913495</td>\n",
       "    </tr>\n",
       "  </tbody>\n",
       "</table>\n",
       "<p>70000 rows × 14 columns</p>\n",
       "</div>"
      ],
      "text/plain": [
       "          id    age  gender  height  weight  ap_hi  ap_lo  cholesterol  gluc  \\\n",
       "0          0  18393       2     168    62.0    110     80            1     1   \n",
       "1          1  20228       1     156    85.0    140     90            3     1   \n",
       "2          2  18857       1     165    64.0    130     70            3     1   \n",
       "3          3  17623       2     169    82.0    150    100            1     1   \n",
       "4          4  17474       1     156    56.0    100     60            1     1   \n",
       "...      ...    ...     ...     ...     ...    ...    ...          ...   ...   \n",
       "69995  99993  19240       2     168    76.0    120     80            1     1   \n",
       "69996  99995  22601       1     158   126.0    140     90            2     2   \n",
       "69997  99996  19066       2     183   105.0    180     90            3     1   \n",
       "69998  99998  22431       1     163    72.0    135     80            1     2   \n",
       "69999  99999  20540       1     170    72.0    120     80            2     1   \n",
       "\n",
       "       smoke  alco  active  cardio        BMI  \n",
       "0          0     0       1       0  21.967120  \n",
       "1          0     0       1       1  34.927679  \n",
       "2          0     0       0       1  23.507805  \n",
       "3          0     0       1       1  28.710479  \n",
       "4          0     0       0       0  23.011177  \n",
       "...      ...   ...     ...     ...        ...  \n",
       "69995      1     0       1       0  26.927438  \n",
       "69996      0     0       1       1  50.472681  \n",
       "69997      0     1       0       1  31.353579  \n",
       "69998      0     0       0       1  27.099251  \n",
       "69999      0     0       1       0  24.913495  \n",
       "\n",
       "[70000 rows x 14 columns]"
      ]
     },
     "execution_count": 3,
     "metadata": {},
     "output_type": "execute_result"
    }
   ],
   "source": [
    "df"
   ]
  },
  {
   "cell_type": "code",
   "execution_count": 4,
   "id": "75d20033",
   "metadata": {},
   "outputs": [],
   "source": [
    "kf = KFold(n_splits=10, shuffle=True, random_state=42)\n",
    "splits = list(kf.split(X))\n",
    "\n",
    "# İlk split'i kullanarak eğitim ve test setlerini oluşturun\n",
    "train_index, test_index = splits[0]\n",
    "X_train, X_test = X.iloc[train_index], X.iloc[test_index]\n",
    "y_cardio_train, y_cardio_test = y_cardio.iloc[train_index], y_cardio.iloc[test_index]\n",
    "y_smoke_train, y_smoke_test = y_smoke.iloc[train_index], y_smoke.iloc[test_index]\n"
   ]
  },
  {
   "cell_type": "code",
   "execution_count": 5,
   "id": "9b311405",
   "metadata": {},
   "outputs": [],
   "source": [
    "# İlk split'i kullanarak eğitim ve test setlerini oluşturun\n",
    "train_index, test_index = splits[0]\n",
    "X_train, X_test = X.iloc[train_index], X.iloc[test_index]\n",
    "y_smoke_train, y_smoke_test = y_smoke.iloc[train_index], y_smoke.iloc[test_index]"
   ]
  },
  {
   "cell_type": "markdown",
   "id": "541fbb51",
   "metadata": {},
   "source": [
    "### RandomForest Modelini Eğit ve Test Et\n"
   ]
  },
  {
   "cell_type": "code",
   "execution_count": 6,
   "id": "3302bb30",
   "metadata": {},
   "outputs": [
    {
     "name": "stdout",
     "output_type": "stream",
     "text": [
      "Smoke Prediction Accuracy: 0.9194285714285715\n",
      "Smoke Confusion Matrix:\n",
      " [[6299   92]\n",
      " [ 472  137]]\n",
      "Smoke Classification Report:\n",
      "               precision    recall  f1-score   support\n",
      "\n",
      "           0       0.93      0.99      0.96      6391\n",
      "           1       0.60      0.22      0.33       609\n",
      "\n",
      "    accuracy                           0.92      7000\n",
      "   macro avg       0.76      0.61      0.64      7000\n",
      "weighted avg       0.90      0.92      0.90      7000\n",
      "\n"
     ]
    }
   ],
   "source": [
    "# RandomForest modeli oluşturun\n",
    "rf_smoke = RandomForestClassifier(random_state=42)\n",
    "\n",
    "# Modeli eğitin\n",
    "rf_smoke.fit(X_train, y_smoke_train)\n",
    "\n",
    "# Tahmin yapın\n",
    "y_smoke_pred = rf_smoke.predict(X_test)\n",
    "\n",
    "# Performans değerlendirmesi yapın\n",
    "print(\"Smoke Prediction Accuracy:\", accuracy_score(y_smoke_test, y_smoke_pred))\n",
    "print(\"Smoke Confusion Matrix:\\n\", confusion_matrix(y_smoke_test, y_smoke_pred))\n",
    "print(\"Smoke Classification Report:\\n\", classification_report(y_smoke_test, y_smoke_pred))"
   ]
  },
  {
   "cell_type": "markdown",
   "id": "ca1abb04",
   "metadata": {},
   "source": [
    "### Çapraz Doğrulama "
   ]
  },
  {
   "cell_type": "code",
   "execution_count": 7,
   "id": "0598fe25",
   "metadata": {},
   "outputs": [
    {
     "name": "stdout",
     "output_type": "stream",
     "text": [
      "Smoke Cross-Validation Scores: [0.91942857 0.917      0.91857143 0.91557143 0.91828571 0.91714286\n",
      " 0.91957143 0.91342857 0.916      0.91428571]\n",
      "Smoke CV Mean Score: 0.9169285714285715\n"
     ]
    }
   ],
   "source": [
    "# 10 katlı çapraz doğrulama yapın\n",
    "cv_scores_smoke = cross_val_score(rf_smoke, X, y_smoke, cv=kf)\n",
    "\n",
    "print(\"Smoke Cross-Validation Scores:\", cv_scores_smoke)\n",
    "print(\"Smoke CV Mean Score:\", np.mean(cv_scores_smoke))"
   ]
  },
  {
   "cell_type": "markdown",
   "id": "14304eeb",
   "metadata": {},
   "source": [
    "### %90 Eğitim, %10 Test\n"
   ]
  },
  {
   "cell_type": "code",
   "execution_count": 8,
   "id": "d5efca59",
   "metadata": {},
   "outputs": [
    {
     "name": "stdout",
     "output_type": "stream",
     "text": [
      "Smoke Prediction Accuracy: 0.9195714285714286\n",
      "Smoke Confusion Matrix:\n",
      " [[6300   91]\n",
      " [ 472  137]]\n",
      "Smoke Classification Report:\n",
      "               precision    recall  f1-score   support\n",
      "\n",
      "           0       0.93      0.99      0.96      6391\n",
      "           1       0.60      0.22      0.33       609\n",
      "\n",
      "    accuracy                           0.92      7000\n",
      "   macro avg       0.77      0.61      0.64      7000\n",
      "weighted avg       0.90      0.92      0.90      7000\n",
      "\n"
     ]
    }
   ],
   "source": [
    "# Veriyi %90 Eğitim, %10 Test olarak ayırın\n",
    "X_train, X_test, y_smoke_train, y_smoke_test = train_test_split(X, y_smoke, test_size=0.1, random_state=42)\n",
    "\n",
    "# Modeli yeniden eğitin ve test edin\n",
    "rf_smoke.fit(X_train, y_smoke_train)\n",
    "y_smoke_pred = rf_smoke.predict(X_test)\n",
    "\n",
    "print(\"Smoke Prediction Accuracy:\", accuracy_score(y_smoke_test, y_smoke_pred))\n",
    "print(\"Smoke Confusion Matrix:\\n\", confusion_matrix(y_smoke_test, y_smoke_pred))\n",
    "print(\"Smoke Classification Report:\\n\", classification_report(y_smoke_test, y_smoke_pred))"
   ]
  },
  {
   "cell_type": "code",
   "execution_count": 9,
   "id": "6711aba0",
   "metadata": {},
   "outputs": [
    {
     "data": {
      "text/plain": [
       "smoke\n",
       "0    63831\n",
       "1     6169\n",
       "Name: count, dtype: int64"
      ]
     },
     "execution_count": 9,
     "metadata": {},
     "output_type": "execute_result"
    }
   ],
   "source": [
    "#Sigara içen ve içmeyenlerin toplam sayısını öğrenelim \n",
    "df['smoke'].value_counts()"
   ]
  },
  {
   "cell_type": "code",
   "execution_count": 10,
   "id": "6acc44e8",
   "metadata": {},
   "outputs": [],
   "source": []
  },
  {
   "cell_type": "code",
   "execution_count": null,
   "id": "17f42d78",
   "metadata": {},
   "outputs": [],
   "source": []
  },
  {
   "cell_type": "markdown",
   "id": "d6229871",
   "metadata": {},
   "source": [
    "## Normalize Hali"
   ]
  },
  {
   "cell_type": "code",
   "execution_count": 14,
   "id": "34ad254d",
   "metadata": {},
   "outputs": [],
   "source": [
    "# Sigara içen ve içmeyenleri ayır\n",
    "smokers = df[df['smoke'] == 1]\n",
    "nonsmokers = df[df['smoke'] == 0]\n",
    "\n",
    "# Sigara içmeyenlerden, sigara içenlerin sayısına eşit sayıda rastgele örnek seç\n",
    "nonsmokers_downsampled = nonsmokers.sample(n=len(smokers), random_state=42)\n",
    "\n",
    "# Dengelenmiş veri setini oluştur\n",
    "balanced_df = pd.concat([smokers, nonsmokers_downsampled])\n",
    "\n",
    "# Veriyi karıştır ve indeksleri sıfırla\n",
    "balanced_df = balanced_df.sample(frac=1, random_state=42).reset_index(drop=True)\n",
    "\n",
    "# Girdi (X) ve Çıktı (y) değişkenlerini ayır\n",
    "X = balanced_df.drop('smoke', axis=1)  # 'smoke' sütunu çıkarılıyor\n",
    "y = balanced_df['smoke']"
   ]
  },
  {
   "cell_type": "code",
   "execution_count": 15,
   "id": "5fc2460a",
   "metadata": {},
   "outputs": [],
   "source": [
    "# Veriyi %90 eğitim, %10 test olarak ayır\n",
    "X_train, X_test, y_train, y_test = train_test_split(X, y, test_size=0.1, random_state=42)\n",
    "\n",
    "# RandomForest modelini oluştur\n",
    "rf_classifier = RandomForestClassifier(random_state=42)\n",
    "\n",
    "# Modeli eğit\n",
    "rf_classifier.fit(X_train, y_train)\n",
    "\n",
    "# Test seti üzerinde tahmin yap\n",
    "y_pred = rf_classifier.predict(X_test)\n",
    "\n",
    "# Performans metriklerini hesapla\n",
    "accuracy = accuracy_score(y_test, y_pred)\n",
    "conf_matrix = confusion_matrix(y_test, y_pred)\n",
    "class_report = classification_report(y_test, y_pred)"
   ]
  },
  {
   "cell_type": "code",
   "execution_count": 17,
   "id": "ece03185",
   "metadata": {},
   "outputs": [
    {
     "name": "stdout",
     "output_type": "stream",
     "text": [
      "Accuracy: 0.7860615883306321\n",
      "Confusion Matrix:\n",
      " [[434 165]\n",
      " [ 99 536]]\n",
      "Classification Report:\n",
      "               precision    recall  f1-score   support\n",
      "\n",
      "           0       0.81      0.72      0.77       599\n",
      "           1       0.76      0.84      0.80       635\n",
      "\n",
      "    accuracy                           0.79      1234\n",
      "   macro avg       0.79      0.78      0.78      1234\n",
      "weighted avg       0.79      0.79      0.79      1234\n",
      "\n"
     ]
    }
   ],
   "source": [
    "# Performans metriklerini yazdır\n",
    "print(\"Accuracy:\", accuracy)\n",
    "print(\"Confusion Matrix:\\n\", conf_matrix)\n",
    "print(\"Classification Report:\\n\", class_report)"
   ]
  },
  {
   "cell_type": "code",
   "execution_count": 16,
   "id": "1463abbf",
   "metadata": {},
   "outputs": [
    {
     "name": "stdout",
     "output_type": "stream",
     "text": [
      "Fitting 5 folds for each of 108 candidates, totalling 540 fits\n",
      "Best Params: {'max_depth': 10, 'min_samples_leaf': 4, 'min_samples_split': 10, 'n_estimators': 200}\n",
      "Accuracy: 0.7982171799027553\n"
     ]
    }
   ],
   "source": [
    "from sklearn.model_selection import GridSearchCV\n",
    "\n",
    "# RandomForest parametre grid'i oluştur\n",
    "param_grid = {\n",
    "    'n_estimators': [100, 200, 300],\n",
    "    'max_depth': [None, 10, 20, 30],\n",
    "    'min_samples_split': [2, 5, 10],\n",
    "    'min_samples_leaf': [1, 2, 4]\n",
    "}\n",
    "\n",
    "# GridSearchCV objesi oluştur\n",
    "grid_search = GridSearchCV(estimator=RandomForestClassifier(random_state=42), \n",
    "                           param_grid=param_grid, \n",
    "                           cv=5, \n",
    "                           n_jobs=-1, \n",
    "                           verbose=2)\n",
    "\n",
    "# Grid search ile modeli eğit\n",
    "grid_search.fit(X_train, y_train)\n",
    "\n",
    "# En iyi parametreleri ve modeli al\n",
    "best_params = grid_search.best_params_\n",
    "best_model = grid_search.best_estimator_\n",
    "\n",
    "# En iyi modelle tahmin yap\n",
    "y_pred = best_model.predict(X_test)\n",
    "\n",
    "# Performans metriklerini yazdır\n",
    "print(\"Best Params:\", best_params)\n",
    "print(\"Accuracy:\", accuracy_score(y_test, y_pred))"
   ]
  },
  {
   "cell_type": "code",
   "execution_count": null,
   "id": "fd2bd134",
   "metadata": {},
   "outputs": [],
   "source": []
  },
  {
   "cell_type": "code",
   "execution_count": null,
   "id": "374a32dd",
   "metadata": {},
   "outputs": [],
   "source": []
  },
  {
   "cell_type": "code",
   "execution_count": null,
   "id": "9900fd92",
   "metadata": {},
   "outputs": [],
   "source": []
  }
 ],
 "metadata": {
  "kernelspec": {
   "display_name": "Python 3 (ipykernel)",
   "language": "python",
   "name": "python3"
  },
  "language_info": {
   "codemirror_mode": {
    "name": "ipython",
    "version": 3
   },
   "file_extension": ".py",
   "mimetype": "text/x-python",
   "name": "python",
   "nbconvert_exporter": "python",
   "pygments_lexer": "ipython3",
   "version": "3.11.5"
  }
 },
 "nbformat": 4,
 "nbformat_minor": 5
}
